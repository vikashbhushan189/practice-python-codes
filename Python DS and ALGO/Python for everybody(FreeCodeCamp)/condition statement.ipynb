{
 "cells": [
  {
   "cell_type": "markdown",
   "metadata": {},
   "source": [
    "try/except block:"
   ]
  },
  {
   "cell_type": "code",
   "execution_count": 6,
   "metadata": {},
   "outputs": [
    {
     "name": "stdout",
     "output_type": "stream",
     "text": [
      "enter the number: forty\n",
      "not a number\n"
     ]
    }
   ],
   "source": [
    "inp=input(\"enter the number: \")\n",
    "\n",
    "try:\n",
    "    con=int(inp)\n",
    "except:\n",
    "    con=-1\n",
    "if con<0:\n",
    "    print(\"not a number\")\n",
    "else:\n",
    "    print(\"the number is: \", con)"
   ]
  },
  {
   "cell_type": "code",
   "execution_count": null,
   "metadata": {},
   "outputs": [],
   "source": []
  }
 ],
 "metadata": {
  "kernelspec": {
   "display_name": "Python 3",
   "language": "python",
   "name": "python3"
  },
  "language_info": {
   "codemirror_mode": {
    "name": "ipython",
    "version": 3
   },
   "file_extension": ".py",
   "mimetype": "text/x-python",
   "name": "python",
   "nbconvert_exporter": "python",
   "pygments_lexer": "ipython3",
   "version": "3.7.7"
  }
 },
 "nbformat": 4,
 "nbformat_minor": 4
}
