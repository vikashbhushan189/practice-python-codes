{
 "cells": [
  {
   "cell_type": "markdown",
   "metadata": {},
   "source": [
    "Adding and Multiplying Strings:"
   ]
  },
  {
   "cell_type": "code",
   "execution_count": 7,
   "metadata": {},
   "outputs": [
    {
     "name": "stdout",
     "output_type": "stream",
     "text": [
      "Enter First Name: vikash\n",
      "Enter Middle Name: \n",
      "Enter Last Name: bhushan\n",
      "vikash  bhushan\n"
     ]
    }
   ],
   "source": [
    "x1=input(\"Enter First Name: \")\n",
    "x4=\" \"\n",
    "x2=input(\"Enter Middle Name: \")\n",
    "if x2!=0:\n",
    "    x5=\" \"\n",
    "else :\n",
    "    x5=\"\";\n",
    "x3=input(\"Enter Last Name: \")\n",
    "\n",
    "sx=x1+x4+x2+x5+x3\n",
    "print(sx)"
   ]
  },
  {
   "cell_type": "code",
   "execution_count": 9,
   "metadata": {},
   "outputs": [
    {
     "name": "stdout",
     "output_type": "stream",
     "text": [
      "enter speed: 32.434\n",
      "enter time: 3.35\n",
      "distance  108.6539\n"
     ]
    }
   ],
   "source": [
    "a=input(\"enter speed: \")\n",
    "b=input(\"enter time: \")\n",
    "dis= float(a)*float(b)\n",
    "print(\"distance \", dis)"
   ]
  },
  {
   "cell_type": "code",
   "execution_count": null,
   "metadata": {},
   "outputs": [],
   "source": []
  },
  {
   "cell_type": "code",
   "execution_count": null,
   "metadata": {},
   "outputs": [],
   "source": []
  }
 ],
 "metadata": {
  "kernelspec": {
   "display_name": "Python 3",
   "language": "python",
   "name": "python3"
  }
 },
 "nbformat": 4,
 "nbformat_minor": 2
}
