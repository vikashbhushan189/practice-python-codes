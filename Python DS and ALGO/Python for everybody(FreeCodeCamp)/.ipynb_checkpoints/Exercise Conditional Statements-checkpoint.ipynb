{
 "cells": [
  {
   "cell_type": "code",
   "execution_count": 1,
   "metadata": {},
   "outputs": [
    {
     "name": "stdout",
     "output_type": "stream",
     "text": [
      "Enter the No. Press ups: 15\n",
      "Enter the regular press up Limit: 10\n",
      "Your extra press ups:  5.0\n",
      " your extra cals burnt today: 1.7999999999999998 cals\n",
      "your total cals burnt today: extra + regular = 4.699999999999999 cals\n"
     ]
    }
   ],
   "source": [
    "press_ups=input(\"Enter the No. Press ups: \")\n",
    "press_ups_limit=input(\"Enter the regular press up Limit: \")\n",
    "exc_press_ups=0\n",
    "try:\n",
    "    fpress_ups=float(press_ups)\n",
    "    fpress_ups_limit=float(press_ups_limit)\n",
    "except:\n",
    "    print(\"Please enter numeric values\")\n",
    "    quit()\n",
    "\n",
    "if fpress_ups>fpress_ups_limit:\n",
    "    exc_press_ups=fpress_ups-fpress_ups_limit\n",
    "    print(\"Your extra press ups: \", exc_press_ups)\n",
    "else :\n",
    "    print(\"you are exhausted, you only burn: \"+ str(fpress_ups * 0.29)+\" cals\")\n",
    "\n",
    "print(\" your extra cals burnt today: \"+ str(exc_press_ups*0.36)+\" cals\")\n",
    "total=(exc_press_ups*0.36)+(fpress_ups_limit*0.29)\n",
    "print(\"your total cals burnt today: extra + regular = \"+str(total)+\" cals\")\n",
    "    "
   ]
  },
  {
   "cell_type": "code",
   "execution_count": null,
   "metadata": {},
   "outputs": [],
   "source": []
  }
 ],
 "metadata": {
  "kernelspec": {
   "display_name": "Python 3",
   "language": "python",
   "name": "python3"
  },
  "language_info": {
   "codemirror_mode": {
    "name": "ipython",
    "version": 3
   },
   "file_extension": ".py",
   "mimetype": "text/x-python",
   "name": "python",
   "nbconvert_exporter": "python",
   "pygments_lexer": "ipython3",
   "version": "3.7.7"
  }
 },
 "nbformat": 4,
 "nbformat_minor": 4
}
